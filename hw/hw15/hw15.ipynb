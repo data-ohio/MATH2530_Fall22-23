{
 "cells": [
  {
   "cell_type": "code",
   "execution_count": null,
   "id": "0cfbd87d",
   "metadata": {
    "deletable": false,
    "editable": false
   },
   "outputs": [],
   "source": [
    "# Initialize Otter\n",
    "import otter\n",
    "grader = otter.Notebook(\"hw15.ipynb\")"
   ]
  },
  {
   "cell_type": "markdown",
   "id": "7f59d2cc",
   "metadata": {},
   "source": [
    "# Homework 15: Data Ethics Scenarios"
   ]
  },
  {
   "cell_type": "markdown",
   "id": "795329c5",
   "metadata": {},
   "source": [
    "<!-- BEGIN QUESTION -->\n",
    "\n",
    "**What is your name?**"
   ]
  },
  {
   "cell_type": "markdown",
   "id": "544d9cf8",
   "metadata": {},
   "source": [
    "_Type your answer here, replacing this text._"
   ]
  },
  {
   "cell_type": "markdown",
   "id": "a3b22875",
   "metadata": {},
   "source": [
    "<!-- END QUESTION -->\n",
    "\n",
    "## 1. Home-made Scenarios"
   ]
  },
  {
   "cell_type": "markdown",
   "id": "77066fb0",
   "metadata": {},
   "source": [
    "### 1.1 Hiring\n",
    "\n",
    "A company wants to hire people that it thinks will stay and be successful at that company. \n",
    "It collects data from the applications of people it hired 5 years ago, and labels each as successful, unsuccessful, or left.\n",
    "It then constructs a kNN classifier using these three classes."
   ]
  },
  {
   "cell_type": "markdown",
   "id": "0ab2ef20",
   "metadata": {},
   "source": [
    "<!-- BEGIN QUESTION -->\n",
    "\n",
    "**Question 1.1.1.**\n",
    "\n",
    "What benefit could the company expect from using this classifier when making hiring decisions?"
   ]
  },
  {
   "cell_type": "markdown",
   "id": "2f9abd4d",
   "metadata": {},
   "source": [
    "_Type your answer here, replacing this text._"
   ]
  },
  {
   "cell_type": "markdown",
   "id": "13b3c434",
   "metadata": {},
   "source": [
    "<!-- END QUESTION -->\n",
    "\n",
    "<!-- BEGIN QUESTION -->\n",
    "\n",
    "**Question 1.1.2.**\n",
    "\n",
    "How could using this classifier when making hiring decisions reinforce social biases?"
   ]
  },
  {
   "cell_type": "markdown",
   "id": "c8b91d19",
   "metadata": {},
   "source": [
    "_Type your answer here, replacing this text._"
   ]
  },
  {
   "cell_type": "markdown",
   "id": "aa9487de",
   "metadata": {},
   "source": [
    "<!-- END QUESTION -->\n",
    "\n",
    "<!-- BEGIN QUESTION -->\n",
    "\n",
    "**Question 1.1.3.**\n",
    "\n",
    "What could the company do to gain the benfits of using a classifier without reinforcing social biases?"
   ]
  },
  {
   "cell_type": "markdown",
   "id": "25a135db",
   "metadata": {},
   "source": [
    "_Type your answer here, replacing this text._"
   ]
  },
  {
   "cell_type": "markdown",
   "id": "c64bf079",
   "metadata": {},
   "source": [
    "<!-- END QUESTION -->\n",
    "\n",
    "### 1.2 MATH Placement\n",
    "\n",
    "When students enter a university, they are given a Mathematics placement level, which determines which MATH courses they can enroll in initially. For example it determines whether they can start in Calculus or need to first take Pre-Calculus.\n",
    "\n",
    "For this simplified example, assume that the only two classes are Pre-Calculus and Calculus."
   ]
  },
  {
   "cell_type": "markdown",
   "id": "864e8fe8",
   "metadata": {},
   "source": [
    "<!-- BEGIN QUESTION -->\n",
    "\n",
    "**Question 1.2.1**\n",
    "\n",
    "University A requires students to take the [ACT](https://www.act.org/) standardized test and places them into Calculus if they score at least 30.\n",
    "\n",
    "What are the advantages and disadvantages of this method?\n",
    "Could it be biased toward or against some group?"
   ]
  },
  {
   "cell_type": "markdown",
   "id": "a0426a11",
   "metadata": {},
   "source": [
    "_Type your answer here, replacing this text._"
   ]
  },
  {
   "cell_type": "markdown",
   "id": "23216860",
   "metadata": {},
   "source": [
    "<!-- END QUESTION -->\n",
    "\n",
    "<!-- BEGIN QUESTION -->\n",
    "\n",
    "**Question 1.2.2.**\n",
    "\n",
    "University B places student based only on their High School GPA.\n",
    "If they have at least 3.5, then they are placed into Calculus.\n",
    "\n",
    "What are the advantages and disadvantages of this method?\n",
    "Could it be biased toward or against some group?"
   ]
  },
  {
   "cell_type": "markdown",
   "id": "2f89a6a4",
   "metadata": {},
   "source": [
    "_Type your answer here, replacing this text._"
   ]
  },
  {
   "cell_type": "markdown",
   "id": "030a0824",
   "metadata": {},
   "source": [
    "<!-- END QUESTION -->\n",
    "\n",
    "<!-- BEGIN QUESTION -->\n",
    "\n",
    "**Question 1.2.3.**\n",
    "\n",
    "University C requires students to take the [ACT](https://www.act.org/) standardized test but also uses their High School GPA when placing them.\n",
    "\n",
    "Using recent students, they gathered data on their ACT score, GPA, and grade in Calculus. It looked something like\n",
    "\n",
    "| ACT   | GPA    | Grade |\n",
    "| ------ | ------ | ----- |\n",
    "| 24     | 3.6    | B+    |\n",
    "| 32     | 2.1    | D     |\n",
    "| ... | ... | ... |\n",
    "\n",
    "They constructed a multiple-regression model that used both `ACT` and `GPA` to predict the Grade (converted to 0-4 scale).\n",
    "(Thus, for example, a higher GPA could compensate for a lower ACT score.)\n",
    "They then place students into Calculus if their predicted grade is at least C (2.00).\n",
    "\n",
    "What are the advantages and disadvantages of this method?\n",
    "Could it be biased toward or against some group?"
   ]
  },
  {
   "cell_type": "markdown",
   "id": "9f0e4a6d",
   "metadata": {},
   "source": [
    "_Type your answer here, replacing this text._"
   ]
  },
  {
   "cell_type": "markdown",
   "id": "7f20e539",
   "metadata": {},
   "source": [
    "<!-- END QUESTION -->\n",
    "\n",
    "<!-- BEGIN QUESTION -->\n",
    "\n",
    "**Question 1.2.4.**\n",
    "\n",
    "University D requires students to take the [ACT](https://www.act.org/) standardized test but also considers other information in their application (GPA, zip code, rating of their High School, gender, ...).\n",
    "\n",
    "Using recent students, they gathered data on their ACT score, other application information, and grade in Calculus. \n",
    "They constructed a multiple-regression model that used all the available information to predict the Grade (converted to 0-4 scale).\n",
    "They then place students into Calculus if their predicted grade is at least C (2.00).\n",
    "\n",
    "What are the advantages and disadvantages of this method?\n",
    "Could it be biased toward or against some group?"
   ]
  },
  {
   "cell_type": "markdown",
   "id": "e9330c5d",
   "metadata": {},
   "source": [
    "_Type your answer here, replacing this text._"
   ]
  },
  {
   "cell_type": "markdown",
   "id": "fe30da3b",
   "metadata": {},
   "source": [
    "<!-- END QUESTION -->\n",
    "\n",
    "<!-- BEGIN QUESTION -->\n",
    "\n",
    "**Question 1.2.5.**\n",
    "\n",
    "If University D removed gender from their data, what other variables could possibly be used as a proxy for gender? "
   ]
  },
  {
   "cell_type": "markdown",
   "id": "1b49ffc1",
   "metadata": {},
   "source": [
    "_Type your answer here, replacing this text._"
   ]
  },
  {
   "cell_type": "markdown",
   "id": "7ded18b5",
   "metadata": {},
   "source": [
    "<!-- END QUESTION -->\n",
    "\n",
    "## 2. Borrowed Scerarios\n",
    "\n",
    "Now we'll consider some [exercises](https://mdsr-book.github.io/mdsr2e/ch-ethics.html#ethics-exercises) from [Modern Data Science with R](https://mdsr-book.github.io/mdsr2e/).\n",
    "To avoid copyright violations, we will just give the problem number and start."
   ]
  },
  {
   "cell_type": "markdown",
   "id": "60981d7b",
   "metadata": {},
   "source": [
    "<!-- BEGIN QUESTION -->\n",
    "\n",
    "**Question 2.1.**\n",
    "\n",
    "[Problem](https://mdsr-book.github.io/mdsr2e/ch-ethics.html#ethics-exercises) 2 (Medium): A data scientist compiled data ... "
   ]
  },
  {
   "cell_type": "markdown",
   "id": "d3dbaf41",
   "metadata": {},
   "source": [
    "_Type your answer here, replacing this text._"
   ]
  },
  {
   "cell_type": "markdown",
   "id": "a3afb08c",
   "metadata": {},
   "source": [
    "<!-- END QUESTION -->\n",
    "\n",
    "<!-- BEGIN QUESTION -->\n",
    "\n",
    "**Question 2.2.**\n",
    "\n",
    "[Problem](https://mdsr-book.github.io/mdsr2e/ch-ethics.html#ethics-exercises) 5 (Medium): A reporter carried out a clinical trial of chocolate ..."
   ]
  },
  {
   "cell_type": "markdown",
   "id": "4aed5fc5",
   "metadata": {},
   "source": [
    "_Type your answer here, replacing this text._"
   ]
  },
  {
   "cell_type": "markdown",
   "id": "f5cc5dde",
   "metadata": {},
   "source": [
    "<!-- END QUESTION -->\n",
    "\n",
    "## Submission"
   ]
  },
  {
   "cell_type": "markdown",
   "id": "7073512d",
   "metadata": {},
   "source": [
    "<!-- BEGIN QUESTION -->\n",
    "\n",
    "**Acknowledgements:**\n",
    "If you received help from any other person, then describe here what help you received and from whom. \n",
    "If not, then say 'None'."
   ]
  },
  {
   "cell_type": "markdown",
   "id": "9d26ceef",
   "metadata": {},
   "source": [
    "_Type your answer here, replacing this text._"
   ]
  },
  {
   "cell_type": "markdown",
   "id": "3fc3f729",
   "metadata": {},
   "source": [
    "<!-- END QUESTION -->\n",
    "\n",
    "It is forbidden to: \n",
    "* Use the work or programs from students who took this class (in any of its versions at any university).\n",
    "* Use websites that claim to have solutions for this class (in any of its versions at any university).\n",
    "* Directly copy from a classmate.\n",
    "\n",
    "**Did you do anything forbidden while working on this assignment?**\n",
    "\n",
    "Assign `did_forbidden` to either `True` or `False`."
   ]
  },
  {
   "cell_type": "code",
   "execution_count": null,
   "id": "ee66302b",
   "metadata": {
    "export_pdf": true,
    "tags": []
   },
   "outputs": [],
   "source": [
    "do_forbidden = ..."
   ]
  },
  {
   "cell_type": "code",
   "execution_count": null,
   "id": "e7356b92",
   "metadata": {
    "deletable": false,
    "editable": false
   },
   "outputs": [],
   "source": [
    "grader.check(\"q_forbidden\")"
   ]
  },
  {
   "cell_type": "markdown",
   "id": "b2abbf0f",
   "metadata": {
    "deletable": false,
    "editable": false
   },
   "source": [
    "---\n",
    "\n",
    "To double-check your work, the cell below will rerun all of the autograder tests."
   ]
  },
  {
   "cell_type": "code",
   "execution_count": null,
   "id": "ffcf9c67",
   "metadata": {
    "deletable": false,
    "editable": false
   },
   "outputs": [],
   "source": [
    "grader.check_all()"
   ]
  },
  {
   "cell_type": "markdown",
   "id": "2a0d9e60",
   "metadata": {
    "deletable": false,
    "editable": false
   },
   "source": [
    "## Submission\n",
    "\n",
    "Make sure you have run all cells in your notebook in order before running the cell below, so that all images/graphs appear in the output. The cell below will generate a zip file for you to submit. **Please save before exporting!**\n",
    "\n",
    "After saving and exporting, submit the .zip file in BlackBoard"
   ]
  },
  {
   "cell_type": "code",
   "execution_count": null,
   "id": "f3afb5a6",
   "metadata": {
    "deletable": false,
    "editable": false
   },
   "outputs": [],
   "source": [
    "# Save your notebook first, then run this cell to export your submission.\n",
    "grader.export()"
   ]
  },
  {
   "cell_type": "markdown",
   "id": "e14b470a",
   "metadata": {},
   "source": [
    " "
   ]
  }
 ],
 "metadata": {
  "kernelspec": {
   "display_name": "Python 3 (ipykernel)",
   "language": "python",
   "name": "python3"
  },
  "language_info": {
   "codemirror_mode": {
    "name": "ipython",
    "version": 3
   },
   "file_extension": ".py",
   "mimetype": "text/x-python",
   "name": "python",
   "nbconvert_exporter": "python",
   "pygments_lexer": "ipython3",
   "version": "3.10.6"
  },
  "otter": {
   "tests": {
    "q_forbidden": {
     "name": "q_forbidden",
     "points": null,
     "suites": [
      {
       "cases": [
        {
         "code": ">>> do_forbidden in [True,False]\nTrue",
         "hidden": false,
         "locked": false
        }
       ],
       "scored": true,
       "setup": "",
       "teardown": "",
       "type": "doctest"
      }
     ]
    }
   }
  }
 },
 "nbformat": 4,
 "nbformat_minor": 5
}
