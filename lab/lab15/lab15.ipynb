{
 "cells": [
  {
   "cell_type": "code",
   "execution_count": null,
   "id": "8d2a4c40",
   "metadata": {
    "deletable": false,
    "editable": false
   },
   "outputs": [],
   "source": [
    "# Initialize Otter\n",
    "import otter\n",
    "grader = otter.Notebook(\"lab15.ipynb\")"
   ]
  },
  {
   "cell_type": "markdown",
   "id": "97d28c15",
   "metadata": {},
   "source": [
    "# Lab 15: Data Ethics Concepts"
   ]
  },
  {
   "cell_type": "markdown",
   "id": "0a58c2b2",
   "metadata": {},
   "source": [
    "<!-- BEGIN QUESTION -->\n",
    "\n",
    "**What is your name?**"
   ]
  },
  {
   "cell_type": "markdown",
   "id": "a1d50d95",
   "metadata": {},
   "source": [
    "_Type your answer here, replacing this text._"
   ]
  },
  {
   "cell_type": "markdown",
   "id": "7d06d0fc",
   "metadata": {},
   "source": [
    "<!-- END QUESTION -->\n",
    "\n",
    "## 1. Laws and Regulations\n",
    "\n",
    "### 1.1 The European General Data Protection Regulation (GDPR)"
   ]
  },
  {
   "cell_type": "markdown",
   "id": "acc75ce5",
   "metadata": {},
   "source": [
    "<!-- BEGIN QUESTION -->\n",
    "\n",
    "**Question 1.1.1.**\n",
    "\n",
    "Under GDPR, how long can a business save personally identifying information in an archive?"
   ]
  },
  {
   "cell_type": "markdown",
   "id": "9b1f72a0",
   "metadata": {},
   "source": [
    "_Type your answer here, replacing this text._"
   ]
  },
  {
   "cell_type": "markdown",
   "id": "ae96bfd9",
   "metadata": {},
   "source": [
    "<!-- END QUESTION -->\n",
    "\n",
    "<!-- BEGIN QUESTION -->\n",
    "\n",
    "**Question 1.1.2.**\n",
    "\n",
    "Under GDPR, can a business collect and process personal data in order to save someone's life?"
   ]
  },
  {
   "cell_type": "markdown",
   "id": "b2785a13",
   "metadata": {},
   "source": [
    "_Type your answer here, replacing this text._"
   ]
  },
  {
   "cell_type": "markdown",
   "id": "01f16ec7",
   "metadata": {},
   "source": [
    "<!-- END QUESTION -->\n",
    "\n",
    "<!-- BEGIN QUESTION -->\n",
    "\n",
    "**Question 1.1.3.**\n",
    "\n",
    "What is the right to erasure?"
   ]
  },
  {
   "cell_type": "markdown",
   "id": "540447e5",
   "metadata": {},
   "source": [
    "_Type your answer here, replacing this text._"
   ]
  },
  {
   "cell_type": "markdown",
   "id": "55a51f52",
   "metadata": {},
   "source": [
    "<!-- END QUESTION -->\n",
    "\n",
    "### 1.2 The California Privacy Rights Act (CPRA) of 2020"
   ]
  },
  {
   "cell_type": "markdown",
   "id": "6d120e0e",
   "metadata": {},
   "source": [
    "<!-- BEGIN QUESTION -->\n",
    "\n",
    "**Question 1.2.1.**\n",
    "\n",
    "Under the California Privacy Rights Act, how long can a business save personally identifying information in an archive?"
   ]
  },
  {
   "cell_type": "markdown",
   "id": "8de67b57",
   "metadata": {},
   "source": [
    "_Type your answer here, replacing this text._"
   ]
  },
  {
   "cell_type": "markdown",
   "id": "f89ca9a3",
   "metadata": {},
   "source": [
    "<!-- END QUESTION -->\n",
    "\n",
    "<!-- BEGIN QUESTION -->\n",
    "\n",
    "**Question 1.2.2.**\n",
    "\n",
    "Under the California Privacy Rights Act, do people have the right to stop businesses from using their race?"
   ]
  },
  {
   "cell_type": "markdown",
   "id": "7b250440",
   "metadata": {},
   "source": [
    "_Type your answer here, replacing this text._"
   ]
  },
  {
   "cell_type": "markdown",
   "id": "830710f6",
   "metadata": {},
   "source": [
    "<!-- END QUESTION -->\n",
    "\n",
    "### 1.3 Privacy Rights in Ohio\n",
    "\n",
    "Neither the GDPR nor the CPRA apply in Ohio."
   ]
  },
  {
   "cell_type": "markdown",
   "id": "35fdc349",
   "metadata": {},
   "source": [
    "<!-- BEGIN QUESTION -->\n",
    "\n",
    "**Question 1.3.1.**\n",
    "\n",
    "What privacy right do people in Ohio have?"
   ]
  },
  {
   "cell_type": "markdown",
   "id": "4ae95282",
   "metadata": {},
   "source": [
    "_Type your answer here, replacing this text._"
   ]
  },
  {
   "cell_type": "markdown",
   "id": "74c7ef62",
   "metadata": {},
   "source": [
    "<!-- END QUESTION -->\n",
    "\n",
    "### 1.4 Section 230 of the Communications Decency Act (CDA)"
   ]
  },
  {
   "cell_type": "markdown",
   "id": "79b90cfb",
   "metadata": {},
   "source": [
    "<!-- BEGIN QUESTION -->\n",
    "\n",
    "**Question 1.4.1.**\n",
    "\n",
    "Under section 230 of the CDA, can you host a website on which other people post lies, post threats, or try to defraud others without you getting in trouble?"
   ]
  },
  {
   "cell_type": "markdown",
   "id": "dadf5592",
   "metadata": {},
   "source": [
    "_Type your answer here, replacing this text._"
   ]
  },
  {
   "cell_type": "markdown",
   "id": "2da189fc",
   "metadata": {},
   "source": [
    "<!-- END QUESTION -->\n",
    "\n",
    "<!-- BEGIN QUESTION -->\n",
    "\n",
    "**Question 1.4.2.**\n",
    "\n",
    "What are the benefits of having section 230 of the CDA as the law?"
   ]
  },
  {
   "cell_type": "markdown",
   "id": "f1554348",
   "metadata": {},
   "source": [
    "_Type your answer here, replacing this text._"
   ]
  },
  {
   "cell_type": "markdown",
   "id": "d25d27b9",
   "metadata": {},
   "source": [
    "<!-- END QUESTION -->\n",
    "\n",
    "## 2. Unfair Discrimination and Social Bias"
   ]
  },
  {
   "cell_type": "markdown",
   "id": "0dd48721",
   "metadata": {},
   "source": [
    "<!-- BEGIN QUESTION -->\n",
    "\n",
    "**Question 2.1.**\n",
    "\n",
    "What is *Algorithmic Bias*?"
   ]
  },
  {
   "cell_type": "markdown",
   "id": "7dcd6779",
   "metadata": {},
   "source": [
    "_Type your answer here, replacing this text._"
   ]
  },
  {
   "cell_type": "markdown",
   "id": "c84c3567",
   "metadata": {},
   "source": [
    "<!-- END QUESTION -->\n",
    "\n",
    "<!-- BEGIN QUESTION -->\n",
    "\n",
    "**Question 2.2.**\n",
    "\n",
    "What is *redlining*?\n",
    "Did redlining happen in the area where you grew up?"
   ]
  },
  {
   "cell_type": "markdown",
   "id": "98e0fd50",
   "metadata": {},
   "source": [
    "_Type your answer here, replacing this text._"
   ]
  },
  {
   "cell_type": "markdown",
   "id": "8f5a0db2",
   "metadata": {},
   "source": [
    "<!-- END QUESTION -->\n",
    "\n",
    "## 3. Transparency of Methods and Analysis"
   ]
  },
  {
   "cell_type": "markdown",
   "id": "ed2696ca",
   "metadata": {},
   "source": [
    "<!-- BEGIN QUESTION -->\n",
    "\n",
    "**Question 3.1.**\n",
    "\n",
    "Suppose the data you collect contradicts the central claim in your doctoral dissertation.\n",
    "If you are not an ethical person, what could you do so you still get to graduate?"
   ]
  },
  {
   "cell_type": "markdown",
   "id": "72d77af1",
   "metadata": {},
   "source": [
    "_Type your answer here, replacing this text._"
   ]
  },
  {
   "cell_type": "markdown",
   "id": "80a790be",
   "metadata": {},
   "source": [
    "<!-- END QUESTION -->\n",
    "\n",
    "<!-- BEGIN QUESTION -->\n",
    "\n",
    "**Question 3.2.**\n",
    "\n",
    "Suppose the data you collect contradicts the central claim in your doctoral dissertation.\n",
    "If you are an ethical person, what could you do so you still get to graduate?"
   ]
  },
  {
   "cell_type": "markdown",
   "id": "41f56eb2",
   "metadata": {},
   "source": [
    "_Type your answer here, replacing this text._"
   ]
  },
  {
   "cell_type": "markdown",
   "id": "d1ac0528",
   "metadata": {},
   "source": [
    "<!-- END QUESTION -->\n",
    "\n",
    "## 4. Sampling Bias"
   ]
  },
  {
   "cell_type": "markdown",
   "id": "1c3f412b",
   "metadata": {},
   "source": [
    "<!-- BEGIN QUESTION -->\n",
    "\n",
    "**Question 4.1.**\n",
    "\n",
    "Suppose that student evaluations of a course only include students who finished the course.\n",
    "Which type of sampling bias would this introduce?"
   ]
  },
  {
   "cell_type": "markdown",
   "id": "cb6d13e0",
   "metadata": {},
   "source": [
    "_Type your answer here, replacing this text._"
   ]
  },
  {
   "cell_type": "markdown",
   "id": "c50a95ee",
   "metadata": {},
   "source": [
    "<!-- END QUESTION -->\n",
    "\n",
    "## Submission"
   ]
  },
  {
   "cell_type": "markdown",
   "id": "64aa62ee",
   "metadata": {},
   "source": [
    "<!-- BEGIN QUESTION -->\n",
    "\n",
    "**Acknowledgements:**\n",
    "If you received help from any other person, then describe here what help you received and from whom. \n",
    "If not, then say 'None'."
   ]
  },
  {
   "cell_type": "markdown",
   "id": "4db98bef",
   "metadata": {},
   "source": [
    "_Type your answer here, replacing this text._"
   ]
  },
  {
   "cell_type": "markdown",
   "id": "cd22f647",
   "metadata": {},
   "source": [
    "<!-- END QUESTION -->\n",
    "\n",
    "It is forbidden to: \n",
    "* Use the work or programs from students who took this class (in any of its versions at any university).\n",
    "* Use websites that claim to have solutions for this class (in any of its versions at any university).\n",
    "* Directly copy from a classmate.\n",
    "\n",
    "**Did you do anything forbidden while working on this assignment?**\n",
    "\n",
    "Assign `did_forbidden` to either `True` or `False`."
   ]
  },
  {
   "cell_type": "code",
   "execution_count": null,
   "id": "1c72de7a",
   "metadata": {
    "export_pdf": true,
    "tags": []
   },
   "outputs": [],
   "source": [
    "do_forbidden = ..."
   ]
  },
  {
   "cell_type": "code",
   "execution_count": null,
   "id": "8baa4baf",
   "metadata": {
    "deletable": false,
    "editable": false
   },
   "outputs": [],
   "source": [
    "grader.check(\"q_forbidden\")"
   ]
  },
  {
   "cell_type": "markdown",
   "id": "9dfdcb52",
   "metadata": {
    "deletable": false,
    "editable": false
   },
   "source": [
    "---\n",
    "\n",
    "To double-check your work, the cell below will rerun all of the autograder tests."
   ]
  },
  {
   "cell_type": "code",
   "execution_count": null,
   "id": "446bc5cd",
   "metadata": {
    "deletable": false,
    "editable": false
   },
   "outputs": [],
   "source": [
    "grader.check_all()"
   ]
  },
  {
   "cell_type": "markdown",
   "id": "45e59c72",
   "metadata": {
    "deletable": false,
    "editable": false
   },
   "source": [
    "## Submission\n",
    "\n",
    "Make sure you have run all cells in your notebook in order before running the cell below, so that all images/graphs appear in the output. The cell below will generate a zip file for you to submit. **Please save before exporting!**\n",
    "\n",
    "After saving and exporting, submit the .zip file in BlackBoard"
   ]
  },
  {
   "cell_type": "code",
   "execution_count": null,
   "id": "9e42e330",
   "metadata": {
    "deletable": false,
    "editable": false
   },
   "outputs": [],
   "source": [
    "# Save your notebook first, then run this cell to export your submission.\n",
    "grader.export()"
   ]
  },
  {
   "cell_type": "markdown",
   "id": "ba084d80",
   "metadata": {},
   "source": [
    " "
   ]
  }
 ],
 "metadata": {
  "kernelspec": {
   "display_name": "Python 3 (ipykernel)",
   "language": "python",
   "name": "python3"
  },
  "language_info": {
   "codemirror_mode": {
    "name": "ipython",
    "version": 3
   },
   "file_extension": ".py",
   "mimetype": "text/x-python",
   "name": "python",
   "nbconvert_exporter": "python",
   "pygments_lexer": "ipython3",
   "version": "3.10.6"
  },
  "otter": {
   "tests": {
    "q_forbidden": {
     "name": "q_forbidden",
     "points": null,
     "suites": [
      {
       "cases": [
        {
         "code": ">>> do_forbidden in [True,False]\nTrue",
         "hidden": false,
         "locked": false
        }
       ],
       "scored": true,
       "setup": "",
       "teardown": "",
       "type": "doctest"
      }
     ]
    }
   }
  }
 },
 "nbformat": 4,
 "nbformat_minor": 5
}
