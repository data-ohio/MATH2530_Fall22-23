{
 "cells": [
  {
   "cell_type": "code",
   "execution_count": null,
   "metadata": {
    "deletable": false,
    "editable": false
   },
   "outputs": [],
   "source": [
    "# Initialize Otter\n",
    "import otter\n",
    "grader = otter.Notebook(\"lab06.ipynb\")"
   ]
  },
  {
   "cell_type": "markdown",
   "metadata": {
    "nbgrader": {
     "grade": false,
     "grade_id": "objectives",
     "locked": true,
     "schema_version": 2,
     "solution": false
    }
   },
   "source": [
    "# Lab 6: Visualization, Transformations, and KDEs\n",
    "(This lab is based on [Data 100 lab 04](https://github.com/DS-100/fa22/tree/main/lab/lab04).)\n",
    "\n",
    "### Objective\n",
    "In this lab you will get some practice plotting, applying data transformations, and working with kernel density estimators (KDEs).  We will be working with data from the World Bank containing various statistics for countries and territories around the world. "
   ]
  },
  {
   "cell_type": "code",
   "execution_count": null,
   "metadata": {
    "_cell_guid": "33c63379-d85b-4638-8183-d008fdb96de7",
    "_uuid": "7ad7f9f24df7dba8ac92d234890835f6b9970834",
    "nbgrader": {
     "grade": false,
     "grade_id": "imports",
     "locked": true,
     "schema_version": 2,
     "solution": false
    }
   },
   "outputs": [],
   "source": [
    "import pandas as pd\n",
    "import numpy as np\n",
    "import seaborn as sns\n",
    "import matplotlib.pyplot as plt\n",
    "from IPython.display import display, Markdown, Latex\n",
    "import ds100_utils\n",
    "\n",
    "plt.style.use('fivethirtyeight') # Use plt.style.available to see more styles\n",
    "sns.set()\n",
    "sns.set_context(\"talk\")\n",
    "%matplotlib inline"
   ]
  },
  {
   "cell_type": "markdown",
   "metadata": {
    "nbgrader": {
     "grade": false,
     "grade_id": "q0",
     "locked": true,
     "schema_version": 2,
     "solution": false
    }
   },
   "source": [
    "## Loading Data"
   ]
  },
  {
   "cell_type": "markdown",
   "metadata": {
    "nbgrader": {
     "grade": false,
     "grade_id": "download-info-2",
     "locked": true,
     "schema_version": 2,
     "solution": false
    }
   },
   "source": [
    "Let us load some World Bank data into a `pd.DataFrame` object named ```wb```."
   ]
  },
  {
   "cell_type": "code",
   "execution_count": null,
   "metadata": {
    "nbgrader": {
     "grade": false,
     "grade_id": "data",
     "locked": true,
     "schema_version": 2,
     "solution": false
    }
   },
   "outputs": [],
   "source": [
    "wb = pd.read_csv(\"data/world_bank_misc.csv\", index_col=0)\n",
    "wb.head()"
   ]
  },
  {
   "cell_type": "markdown",
   "metadata": {
    "nbgrader": {
     "grade": false,
     "grade_id": "explore-cols",
     "locked": true,
     "schema_version": 2,
     "solution": false
    }
   },
   "source": [
    "This table contains some interesting columns.  Take a look:"
   ]
  },
  {
   "cell_type": "code",
   "execution_count": null,
   "metadata": {
    "nbgrader": {
     "grade": false,
     "grade_id": "explore-cols-code",
     "locked": true,
     "schema_version": 2,
     "solution": false
    }
   },
   "outputs": [],
   "source": [
    "display(Markdown('\\n'.join(fr'{i + 1}. {c}'.replace('$', r'\\$') for i, c in enumerate(wb.columns))))"
   ]
  },
  {
   "cell_type": "markdown",
   "metadata": {
    "nbgrader": {
     "grade": false,
     "grade_id": "part1",
     "locked": true,
     "schema_version": 2,
     "solution": false
    }
   },
   "source": [
    "# Part 1: Scaling\n",
    "\n",
    "In the first part of this assignment we will look at the distribution of values for combined adult literacy rate as well as the gross national income per capita. The code below creates a copy of the DataFrame that contains only the two Series we want, and then drops all rows that contain null values in either column.\n",
    "\n",
    "**Note:** For this lab we are dropping null values without investigating them further. However, this is generally not the best practice and can severely affect our analyses.\n",
    "\n",
    "Here the combined literacy rate is the sum of the female and male literacy rates as reported by the World Bank. 0 represents no literacy, and 200 would represent total literacy by both genders that are included in the World Bank's dataset.\n",
    "\n",
    "In this lab, we will be using the `sns.histplot`, `sns.rugplot`, and `sns.displot` function to visualize distributions. You may find it useful to consult the seaborn documentation on [distributions](https://seaborn.pydata.org/tutorial/distributions.html) and [functions](https://seaborn.pydata.org/tutorial/function_overview.html) for more details."
   ]
  },
  {
   "cell_type": "code",
   "execution_count": null,
   "metadata": {
    "nbgrader": {
     "grade": false,
     "grade_id": "q1-answer",
     "locked": true,
     "schema_version": 2,
     "solution": false
    },
    "scrolled": true,
    "tags": [
     "student"
    ]
   },
   "outputs": [],
   "source": [
    "#creates a DataFrame with the appropriate index\n",
    "df = pd.DataFrame(index=wb.index)\n",
    "\n",
    "#copies the Series we want\n",
    "df['lit'] = wb['Adult literacy rate: Female: % ages 15 and older: 2005-14'] + wb[\"Adult literacy rate: Male: % ages 15 and older: 2005-14\"]\n",
    "df['inc'] = wb['Gross national income per capita, Atlas method: $: 2016']\n",
    "\n",
    "#the line below drops all records that have a NaN value in either column\n",
    "df.dropna(inplace=True)\n",
    "print(\"Original records:\", len(wb))\n",
    "print(\"Final records:\", len(df))"
   ]
  },
  {
   "cell_type": "code",
   "execution_count": null,
   "metadata": {
    "nbgrader": {
     "grade": false,
     "grade_id": "cell-dcd091fc26fffb77",
     "locked": true,
     "schema_version": 2,
     "solution": false
    }
   },
   "outputs": [],
   "source": [
    "df.head(5)"
   ]
  },
  {
   "cell_type": "markdown",
   "metadata": {
    "nbgrader": {
     "grade": false,
     "grade_id": "cell-15d94e63e4d461a0",
     "locked": true,
     "schema_version": 2,
     "solution": false
    }
   },
   "source": [
    "## Question 1a"
   ]
  },
  {
   "cell_type": "markdown",
   "metadata": {
    "nbgrader": {
     "grade": false,
     "grade_id": "cell-30751ff6e5b72286",
     "locked": true,
     "schema_version": 2,
     "solution": false
    }
   },
   "source": [
    "Suppose we wanted to build a histogram of our data to understand the distribution of literacy rates and income per capita individually. We can use [`countplot`](https://seaborn.pydata.org/generated/seaborn.countplot.html) in seaborn to create bar charts from categorical data. "
   ]
  },
  {
   "cell_type": "code",
   "execution_count": null,
   "metadata": {
    "nbgrader": {
     "grade": false,
     "grade_id": "cell-5e0c40ff7263e7df",
     "locked": true,
     "schema_version": 2,
     "solution": false
    }
   },
   "outputs": [],
   "source": [
    "sns.countplot(x = \"lit\", data = df)\n",
    "plt.xlabel(\"Combined literacy rate: % ages 15 and older: 2005-14\")\n",
    "plt.title('World Bank Combined Adult Literacy Rate')"
   ]
  },
  {
   "cell_type": "code",
   "execution_count": null,
   "metadata": {},
   "outputs": [],
   "source": [
    "sns.countplot(x = \"inc\", data = df)\n",
    "plt.xlabel('Gross national income per capita, Atlas method: $: 2016')\n",
    "plt.title('World Bank Gross National Income Per Capita')"
   ]
  },
  {
   "cell_type": "markdown",
   "metadata": {},
   "source": [
    "In the cell below, explain why `countplot` is NOT the right tool for visualizing the distribution of our data.\n"
   ]
  },
  {
   "cell_type": "markdown",
   "metadata": {},
   "source": [
    "_Type your answer here, replacing this text._"
   ]
  },
  {
   "cell_type": "markdown",
   "metadata": {},
   "source": [
    "## Question 1b\n",
    "\n",
    "In the cell below, create a plot of **income per capita** (the second plot above) using the [`histplot`](https://seaborn.pydata.org/generated/seaborn.histplot.html) function. \n",
    "\n",
    "Don't forget to title the plot and label axes!\n",
    "\n",
    "**Hint:** *Copy and paste from above to start.*\n"
   ]
  },
  {
   "cell_type": "code",
   "execution_count": null,
   "metadata": {
    "nbgrader": {
     "grade": true,
     "grade_id": "q2a-answer",
     "locked": false,
     "points": 1,
     "schema_version": 2,
     "solution": true
    },
    "scrolled": true,
    "tags": [
     "student"
    ]
   },
   "outputs": [],
   "source": [
    "..."
   ]
  },
  {
   "cell_type": "markdown",
   "metadata": {
    "nbgrader": {
     "grade": false,
     "grade_id": "cell-56f8e35b03f38694",
     "locked": true,
     "schema_version": 2,
     "solution": false
    }
   },
   "source": [
    "You should see a histogram that show the counts of how many data points appear in each bin. `distplot` uses a heuristic called the Freedman-Diaconis rule to automatically identify the best bin sizes, though it is possible to set the bins yourself (we won't).\n",
    "\n",
    "\n",
    "In the cell below, we explore overlaying a rug plot on top of a histogram using `rugplot`. Note that the rug plot is hard to see."
   ]
  },
  {
   "cell_type": "code",
   "execution_count": null,
   "metadata": {
    "nbgrader": {
     "grade": true,
     "grade_id": "cell-72d2c195130debd8",
     "locked": false,
     "points": 1,
     "schema_version": 2,
     "solution": true
    }
   },
   "outputs": [],
   "source": [
    "sns.histplot(x=\"inc\", data = df)\n",
    "sns.rugplot(x=\"inc\", data = df)\n",
    "plt.xlabel('Gross national income per capita, Atlas method: $: 2016')\n",
    "plt.title('World Bank Gross National Income Per Capita')"
   ]
  },
  {
   "cell_type": "markdown",
   "metadata": {},
   "source": [
    "One way to make it easier to see the difference between the rug plot and the bars is to set a different color, for example:"
   ]
  },
  {
   "cell_type": "code",
   "execution_count": null,
   "metadata": {},
   "outputs": [],
   "source": [
    "sns.histplot(x=\"inc\", data = df, color = \"lightsteelblue\")\n",
    "sns.rugplot(x=\"inc\", data = df)\n",
    "plt.xlabel('Gross national income per capita, Atlas method: $: 2016')\n",
    "plt.title('World Bank Gross National Income Per Capita')"
   ]
  },
  {
   "cell_type": "markdown",
   "metadata": {},
   "source": [
    "There is also another function called `kdeplot` which plots a Kernel Density Estimate, which is described in more detail later in this lab.\n",
    "\n",
    "Rather than manually calling `histplot`, `rugplot`, and `kdeplot` to plot histograms, rug plots, and KDE plots, respectively, we can instead use `displot`, which can simultaneously plot histogram bars, a rug plot, and a KDE plot, and adjust all the colors automatically for visbility. Using the documentation for [`displot`](https://seaborn.pydata.org/generated/seaborn.displot.html) ([Link](https://seaborn.pydata.org/generated/seaborn.displot.html)), make a plot of the income data that includes a histogram, rug plot, and KDE plot. Hint: You'll need to set two parameters to `True`."
   ]
  },
  {
   "cell_type": "code",
   "execution_count": null,
   "metadata": {
    "nbgrader": {
     "grade": true,
     "grade_id": "cell-1aaac759f52a2269",
     "locked": false,
     "points": 1,
     "schema_version": 2,
     "solution": true
    }
   },
   "outputs": [],
   "source": [
    "sns.displot(x=\"inc\", data = df, rug = True, kde = True)\n",
    "plt.xlabel('Gross national income per capita, Atlas method: $: 2016')\n",
    "plt.title('World Bank Gross National Income Per Capita')"
   ]
  },
  {
   "cell_type": "markdown",
   "metadata": {},
   "source": [
    "You should see roughly the same histogram as before. However, now you should see an overlaid smooth line. This is the kernel density estimate. "
   ]
  },
  {
   "cell_type": "markdown",
   "metadata": {},
   "source": [
    "Above, the y-axis is labeled by the counts. We can also label the y-axis by the density. An example is given below, this time using the literacy data from the beginning of this lab."
   ]
  },
  {
   "cell_type": "code",
   "execution_count": null,
   "metadata": {},
   "outputs": [],
   "source": [
    "sns.displot(x=\"lit\", data = df, rug = True, kde = True, stat = \"density\")\n",
    "plt.xlabel(\"Adult literacy rate: Combined: % ages 15 and older: 2005-14\")\n",
    "plt.title('World Bank Combined Adult Literacy Rate')"
   ]
  },
  {
   "cell_type": "markdown",
   "metadata": {
    "nbgrader": {
     "grade": false,
     "grade_id": "cell-d2ac0f8505508bb9",
     "locked": true,
     "schema_version": 2,
     "solution": false
    }
   },
   "source": [
    "Observations:\n",
    "* You'll also see that the y-axis value is no longer the count. Instead it is a value such that the total **area** in the histogram is 1. For example, the area of the last bar is approximately 22.22 * 0.028 = 0.62\n",
    "\n",
    "* The KDE is a smooth estimate of the distribution of the given variable. The area under the KDE is also 1. While it is not obvious from the figure, some of the area under the KDE is beyond the 100% literacy. In other words, the KDE is non-zero for values greater than 100%. This, of course, makes no physical sense. Nonetheless, it is a mathematical feature of the KDE.\n",
    "\n",
    "We'll talk more about KDEs later in this lab."
   ]
  },
  {
   "cell_type": "markdown",
   "metadata": {},
   "source": [
    "## Question 1c\n",
    "\n",
    "Looking at the income data, it is difficult to see the distribution among low income countries because they are all scrunched up at the left side of the plot. The KDE also has a problem where the density function has a lot of area below 0. \n",
    "\n",
    "Transforming the `inc` data logarithmically gives us a more symmetric distribution of values. This can make it easier to see patterns.\n",
    "\n",
    "In addition, summary statistics like the mean and standard deviation (square-root of the variance) are more stable with symmetric distributions.\n",
    "\n",
    "In the cell below, make a distribution plot of `inc` with the data transformed using `np.log10` and `kde=True`. If you want to see the exact counts, just set `kde=False`. If you don't specify the `kde` parameter, it is by default set to True. \n",
    "\n",
    "**Hint:** Unlike the examples above, you can pass a series to the `displot` function, i.e. rather than passing an entire DataFrame as `data` and a column as `x`, you can instead pass a series.\n"
   ]
  },
  {
   "cell_type": "code",
   "execution_count": null,
   "metadata": {
    "nbgrader": {
     "grade": true,
     "grade_id": "q2c-answer",
     "locked": false,
     "points": 1,
     "schema_version": 2,
     "solution": true
    },
    "tags": [
     "student"
    ]
   },
   "outputs": [],
   "source": [
    "ax = ...\n",
    "plt.title('World Bank Gross National Income Per Capita')\n",
    "plt.ylabel('Density')\n",
    "plt.xlabel('Log Gross national income per capita, Atlas method: $: 2016');"
   ]
  },
  {
   "cell_type": "markdown",
   "metadata": {},
   "source": [
    "When a distribution has a long right tail, a log-transformation often does a good job of symmetrizing the distribution, as it did here.  Long right tails are common with variables that have a lower limit on the values. \n",
    "\n",
    "On the other hand, long left tails are common with distributions of variables that have an upper limit, such as percentages (can't be higher than 100%) and GPAs (can't be higher than 4).  That is the case for the literacy rate. Typically taking a power-transformation such \n",
    "as squaring or cubing the values can help symmetrize the left skew distribution.\n",
    "\n",
    "In the cell below, we will make a distribution plot of `lit` with the data transformed using a power, i.e., raise `lit` to the 2nd, 3rd, and 4th power. We plot the transformation with the 4th power below.\n"
   ]
  },
  {
   "cell_type": "code",
   "execution_count": null,
   "metadata": {},
   "outputs": [],
   "source": [
    "ax = sns.displot((df['lit']**4), kde = True)\n",
    "plt.ylabel('Density')\n",
    "plt.xlabel(\"Adult literacy rate: Combined: % ages 15 and older: 2005-14\")\n",
    "plt.title('World Bank Combined Adult Literacy Rate (4th power)', pad=30);"
   ]
  },
  {
   "cell_type": "markdown",
   "metadata": {},
   "source": [
    "## Question 1d\n",
    "\n",
    "If we want to examine the relationship between the combined adult literacy rate and the gross national income per capita, we need to make a scatter plot. \n",
    "\n",
    "In the cell below, create a scatter plot of untransformed income per capita and literacy rate using the `sns.scatterplot` function. Make  sure to label both axes using `plt.xlabel` and `plt.ylabel`.\n"
   ]
  },
  {
   "cell_type": "code",
   "execution_count": null,
   "metadata": {
    "tags": []
   },
   "outputs": [],
   "source": [
    "..."
   ]
  },
  {
   "cell_type": "markdown",
   "metadata": {},
   "source": [
    "We can better assess the relationship between two variables when they have been straightened because it is easier for us to recognize linearity.\n",
    "\n",
    "In the cell below, we see a scatter plot of log-transformed income per capita against literacy rate.\n"
   ]
  },
  {
   "cell_type": "code",
   "execution_count": null,
   "metadata": {
    "scrolled": false,
    "tags": []
   },
   "outputs": [],
   "source": [
    "sns.scatterplot(x = df['lit'], y = np.log10(df['inc']))\n",
    "plt.xlabel(\"Adult literacy rate: Combined: % ages 15 and older\")\n",
    "plt.ylabel('Gross national income per capita (log scale)')\n",
    "plt.title('World Bank: Gross National Income Per Capita vs\\n Combined Adult Literacy Rate');"
   ]
  },
  {
   "cell_type": "markdown",
   "metadata": {},
   "source": [
    "This scatter plot looks better. The relationship is closer to linear.\n",
    "\n",
    "We can think of the log-linear relationship between x and y, as follows: a constant change in x corresponds to a percent (scaled) change in y.\n",
    "\n",
    "We can also see that the long left tail of literacy is represented in this plot by a lot of the points being bunched up near 100. Try squaring literacy and taking the log of income. Does the plot look better? \n"
   ]
  },
  {
   "cell_type": "code",
   "execution_count": null,
   "metadata": {
    "scrolled": false,
    "tags": []
   },
   "outputs": [],
   "source": [
    "plt.figure(figsize=(10,5))\n",
    "..."
   ]
  },
  {
   "cell_type": "markdown",
   "metadata": {},
   "source": [
    "Choosing the best transformation for a relationship is often a balance between keeping the model simple and straightening the scatter plot."
   ]
  },
  {
   "cell_type": "markdown",
   "metadata": {
    "nbgrader": {
     "grade": false,
     "grade_id": "part2",
     "locked": true,
     "schema_version": 2,
     "solution": false
    },
    "tags": []
   },
   "source": [
    "# Part 2: Kernel Density Estimation\n",
    "\n",
    "In this part of the lab you will develop a deeper understanding of how kernel density estimation works.\n",
    "\n",
    "### Overview\n",
    "\n",
    "Kernel density estimation is used to estimate a probability density function (i.e. a density curve) from a set of data. Just like a histogram, a density function's total area must sum to 1.\n",
    "\n",
    "KDE centrally revolves around this idea of a \"kernel\". A kernel is a function whose area sums to 1. The three steps involved in building a kernel density estimate are:\n",
    "1. Placing a kernel at each observation\n",
    "2. Normalizing kernels so that the sum of their areas is 1\n",
    "3. Summing all kernels together\n",
    "\n",
    "The end result is a function, that takes in some value `x` and returns a density estimate at the point `x`.\n",
    "\n",
    "When constructing a KDE, there are several choices to make regarding the kernel. Specifically, we need to choose the function we want to use as our kernel, as well as a bandwidth parameter, which tells us how wide or narrow each kernel should be. We will explore these ideas now."
   ]
  },
  {
   "cell_type": "markdown",
   "metadata": {
    "nbgrader": {
     "grade": false,
     "grade_id": "cell-edbcbd6d58848e8b",
     "locked": true,
     "schema_version": 2,
     "solution": false
    }
   },
   "source": [
    "Suppose we have 3 data points with values 2, 4, and 9. We can compute the (useless) histogram with a KDE as shown below."
   ]
  },
  {
   "cell_type": "code",
   "execution_count": null,
   "metadata": {
    "nbgrader": {
     "grade": false,
     "grade_id": "cell-64844f4047d4220a",
     "locked": true,
     "schema_version": 2,
     "solution": false
    }
   },
   "outputs": [],
   "source": [
    "data3pts = np.array([2, 4, 9])\n",
    "sns.displot(data3pts, kde = True, stat = \"density\");"
   ]
  },
  {
   "cell_type": "markdown",
   "metadata": {},
   "source": [
    "To understand how KDEs are computed, we need to see the KDE outside the given range. The easiest way to do this is to use an old function called `distplot`. During the Spring 2022 offering of this course, `distplot` was still a working function in Seaborn, but it will be removed at a future date. If you get an error that says that `distplot` is not a valid function, sorry, you are too far in the future to do this lab exercise."
   ]
  },
  {
   "cell_type": "code",
   "execution_count": null,
   "metadata": {},
   "outputs": [],
   "source": [
    "sns.distplot(data3pts, kde = True);"
   ]
  },
  {
   "cell_type": "markdown",
   "metadata": {
    "nbgrader": {
     "grade": false,
     "grade_id": "cell-827af143e350db11",
     "locked": true,
     "schema_version": 2,
     "solution": false
    }
   },
   "source": [
    "One question you might be wondering is how the kernel density estimator decides how \"wide\" each point should be. It turns out this is a parameter you can set called `bw`, which stands for bandwith. For example, the code below gives a bandwith value of 0.5 to each data point. You'll see the resulting KDE is quite different. Try experimenting with different values of bandwidth and see what happens."
   ]
  },
  {
   "cell_type": "code",
   "execution_count": null,
   "metadata": {
    "nbgrader": {
     "grade": false,
     "grade_id": "cell-912a66ab5da037c2",
     "locked": true,
     "schema_version": 2,
     "solution": false
    },
    "scrolled": false
   },
   "outputs": [],
   "source": [
    "sns.distplot(data3pts, kde = True, kde_kws = {\"bw\": 0.5});"
   ]
  },
  {
   "cell_type": "markdown",
   "metadata": {
    "nbgrader": {
     "grade": false,
     "grade_id": "cell-532fe1463a834b05",
     "locked": true,
     "schema_version": 2,
     "solution": false
    }
   },
   "source": [
    "As mentioned above, the kernel density estimate (KDE) is just the sum of a bunch of copies of the kernel, each centered on our data points. The default kernel used by the `distplot` function (as well as `kdeplot`) is the Gaussian kernel, given by:\n",
    "\n",
    "$$\\Large\n",
    "K_\\alpha(x, z) = \\frac{1}{\\sqrt{2 \\pi \\alpha^2}} \\exp\\left(-\\frac{(x - z)^2}{2  \\alpha ^2} \\right)\n",
    "$$"
   ]
  },
  {
   "cell_type": "markdown",
   "metadata": {
    "nbgrader": {
     "grade": false,
     "grade_id": "cell-8cad663e76c2a0b5",
     "locked": true,
     "schema_version": 2,
     "solution": false
    }
   },
   "source": [
    "We've implemented the Gaussian kernel for you in Python below. Here, `alpha` is the smoothing or bandwidth parameter $\\alpha$ for the KDE, `z` is the center of the Gaussian (i.e. a data point or an array of data points), and `x` is an array of values of the variable whose distribution we are plotting."
   ]
  },
  {
   "cell_type": "code",
   "execution_count": null,
   "metadata": {
    "nbgrader": {
     "grade": false,
     "grade_id": "cell-a3bcdaccb84140a2",
     "locked": true,
     "schema_version": 2,
     "solution": false
    }
   },
   "outputs": [],
   "source": [
    "def gaussian_kernel(alpha, x, z):\n",
    "    return 1.0/np.sqrt(2. * np.pi * alpha**2) * np.exp(-(x - z) ** 2 / (2.0 * alpha**2))"
   ]
  },
  {
   "cell_type": "markdown",
   "metadata": {
    "nbgrader": {
     "grade": false,
     "grade_id": "cell-55b4afb9f7caaaa5",
     "locked": true,
     "schema_version": 2,
     "solution": false
    }
   },
   "source": [
    "For example, we can plot the Gaussian kernel centered at 9 with $\\alpha$ = 0.5 as below: "
   ]
  },
  {
   "cell_type": "code",
   "execution_count": null,
   "metadata": {
    "nbgrader": {
     "grade": false,
     "grade_id": "cell-2fcba8c1b7a5e471",
     "locked": true,
     "schema_version": 2,
     "solution": false
    },
    "scrolled": false
   },
   "outputs": [],
   "source": [
    "xs = np.linspace(-2, 12, 200)\n",
    "alpha=0.5\n",
    "kde_curve = [gaussian_kernel(alpha, x, 9) for x in xs]\n",
    "plt.plot(xs, kde_curve);"
   ]
  },
  {
   "cell_type": "markdown",
   "metadata": {},
   "source": [
    "Recall our original (useless) plot of our 3 data points:"
   ]
  },
  {
   "cell_type": "code",
   "execution_count": null,
   "metadata": {
    "scrolled": true
   },
   "outputs": [],
   "source": [
    "sns.displot(data3pts, kde = True, stat = \"density\");"
   ]
  },
  {
   "cell_type": "markdown",
   "metadata": {},
   "source": [
    "We can now plot the density from our 3 data points while varying the width. Try different values of alpha. "
   ]
  },
  {
   "cell_type": "code",
   "execution_count": null,
   "metadata": {
    "nbgrader": {
     "grade": true,
     "grade_id": "cell-a1cbcf4340aacbdd",
     "locked": false,
     "points": 1,
     "schema_version": 2,
     "solution": true
    },
    "scrolled": false
   },
   "outputs": [],
   "source": [
    "xs = np.linspace(2, 9, 200)\n",
    "alpha=0.2\n",
    "kde_curve = np.array([1/len(data3pts) * gaussian_kernel(alpha, x, data3pts) for x in xs])\n",
    "plt.plot(xs, np.sum(kde_curve, axis = 1));\n",
    "plt.ylim([0,plt.ylim()[1]])"
   ]
  },
  {
   "cell_type": "markdown",
   "metadata": {
    "nbgrader": {
     "grade": false,
     "grade_id": "cell-4b452c13fc1463cd",
     "locked": true,
     "schema_version": 2,
     "solution": false
    }
   },
   "source": [
    "<!-- BEGIN QUESTION -->\n",
    "\n",
    "## Question 2a\n",
    "Which value of `alpha` best matches the curve in our original plot?"
   ]
  },
  {
   "cell_type": "markdown",
   "metadata": {},
   "source": [
    "_Type your answer here, replacing this text._"
   ]
  },
  {
   "cell_type": "markdown",
   "metadata": {
    "nbgrader": {
     "grade": false,
     "grade_id": "cell-75f0be696fffcb15",
     "locked": true,
     "schema_version": 2,
     "solution": false
    }
   },
   "source": [
    "<!-- END QUESTION -->\n",
    "\n",
    "### KDE on the income data\n",
    "Recall that earlier we plotted the kernel density estimation for the logarithm of the income data, as shown again below."
   ]
  },
  {
   "cell_type": "code",
   "execution_count": null,
   "metadata": {
    "nbgrader": {
     "grade": false,
     "grade_id": "cell-5dc1ca49bb365cb7",
     "locked": true,
     "schema_version": 2,
     "solution": false
    }
   },
   "outputs": [],
   "source": [
    "ax = sns.displot(np.log10(df['inc']), kind = \"kde\", rug = True)\n",
    "plt.title('World Bank Gross National Income Per Capita')\n",
    "plt.xlabel('Log Gross national income per capita, Atlas method: $: 2016');"
   ]
  },
  {
   "cell_type": "markdown",
   "metadata": {
    "nbgrader": {
     "grade": false,
     "grade_id": "cell-e2a9298ef9825f6c",
     "locked": true,
     "schema_version": 2,
     "solution": false
    }
   },
   "source": [
    "Try out different values of alpha in {0.1, 0.2, 0.3, 0.4, 0.5}. You will see that when alpha=0.2, the graph matches the previous graph well, except that the `displot` function hides the KDE values outside the range of the available data."
   ]
  },
  {
   "cell_type": "code",
   "execution_count": null,
   "metadata": {
    "nbgrader": {
     "grade": true,
     "grade_id": "cell-a1cbcf4340aacbdd",
     "locked": false,
     "points": 1,
     "schema_version": 2,
     "solution": true
    },
    "scrolled": true
   },
   "outputs": [],
   "source": [
    "xs = np.linspace(1, 6, 200)\n",
    "alpha=0.2\n",
    "kde_curve = np.array([1/len(df['inc']) * gaussian_kernel(alpha, x, np.log10(df['inc'])) for x in xs])\n",
    "plt.title('World Bank Gross National Income Per Capita')\n",
    "plt.xlabel('Log Gross national income per capita, Atlas method: $: 2016')\n",
    "plt.plot(xs, np.sum(kde_curve, axis = 1));"
   ]
  },
  {
   "cell_type": "markdown",
   "metadata": {
    "nbgrader": {
     "grade": false,
     "grade_id": "cell-237693c557348d15",
     "locked": true,
     "schema_version": 2,
     "solution": false
    }
   },
   "source": [
    "The code below generates the `kde` of the log of the income data as before."
   ]
  },
  {
   "cell_type": "code",
   "execution_count": null,
   "metadata": {
    "nbgrader": {
     "grade": false,
     "grade_id": "cell-cd8fe3ad58eaadda",
     "locked": true,
     "schema_version": 2,
     "solution": false
    }
   },
   "outputs": [],
   "source": [
    "df['trans_inc'] = np.log10(df['inc'])\n",
    "alpha = 0.2\n",
    "kde = lambda a,b,c,d : np.sum(a(b,c,d))/len(d)\n",
    "xs = np.linspace(df['trans_inc'].min(), df['trans_inc'].max(), 1000)\n",
    "curve = [kde(gaussian_kernel, alpha, x, df['trans_inc']) for x in xs]\n",
    "plt.hist(df['trans_inc'], density=True, color='orange')\n",
    "plt.title('World Bank Gross National Income Per Capita')\n",
    "plt.xlabel('Log Gross national income per capita, Atlas method: $: 2016');\n",
    "plt.plot(xs, curve, 'k-');"
   ]
  },
  {
   "cell_type": "markdown",
   "metadata": {
    "nbgrader": {
     "grade": false,
     "grade_id": "cell-e6e9e5afa3654ff7",
     "locked": true,
     "schema_version": 2,
     "solution": false
    }
   },
   "source": [
    "And the code below should show a 3 x 3 set of plots showing the output of the kde for different `alpha` values."
   ]
  },
  {
   "cell_type": "code",
   "execution_count": null,
   "metadata": {
    "nbgrader": {
     "grade": false,
     "grade_id": "q3c-plots",
     "locked": true,
     "schema_version": 2,
     "solution": false
    },
    "scrolled": false,
    "tags": [
     "student"
    ]
   },
   "outputs": [],
   "source": [
    "plt.figure(figsize=(15,15))\n",
    "alphas = np.arange(0.2, 2.0, 0.2)\n",
    "kde = lambda a,b,c,d : np.sum(a(b,c,d))/len(d)\n",
    "for i, alpha in enumerate(alphas):\n",
    "    plt.subplot(3, 3, i+1)\n",
    "    xs = np.linspace(df['trans_inc'].min(), df['trans_inc'].max(), 1000)\n",
    "    curve = [kde(gaussian_kernel, alpha, x, df['trans_inc']) for x in xs]\n",
    "    plt.hist(df['trans_inc'], density=True, color='orange')\n",
    "    plt.plot(xs, curve, 'k-')\n",
    "    plt.title(\"alpha=\"+str(alpha))\n",
    "plt.show()"
   ]
  },
  {
   "cell_type": "markdown",
   "metadata": {
    "nbgrader": {
     "grade": false,
     "grade_id": "cell-aac6f1e8a7d66932",
     "locked": true,
     "schema_version": 2,
     "solution": false
    }
   },
   "source": [
    "### The Boxcar Kernel\n",
    "Let's take a look at another kernel, the Boxcar kernel."
   ]
  },
  {
   "cell_type": "code",
   "execution_count": null,
   "metadata": {
    "nbgrader": {
     "grade": false,
     "grade_id": "q3d-function",
     "locked": true,
     "schema_version": 2,
     "solution": false
    }
   },
   "outputs": [],
   "source": [
    "def boxcar_kernel(alpha, x, z):\n",
    "    return (((x-z)>=-alpha/2)&((x-z)<=alpha/2))/alpha"
   ]
  },
  {
   "cell_type": "markdown",
   "metadata": {
    "nbgrader": {
     "grade": false,
     "grade_id": "interact-instructions",
     "locked": true,
     "schema_version": 2,
     "solution": false
    }
   },
   "source": [
    "Run the cell below to enable interactive plots. It should give you a green 'OK' when it's finished."
   ]
  },
  {
   "cell_type": "code",
   "execution_count": null,
   "metadata": {
    "nbgrader": {
     "grade": false,
     "grade_id": "interact-code",
     "locked": true,
     "schema_version": 2,
     "solution": false
    }
   },
   "outputs": [],
   "source": [
    "from ipywidgets import interact\n",
    "!jupyter nbextension enable --py widgetsnbextension"
   ]
  },
  {
   "cell_type": "markdown",
   "metadata": {
    "nbgrader": {
     "grade": false,
     "grade_id": "q3d-plot_instructions",
     "locked": true,
     "schema_version": 2,
     "solution": false
    }
   },
   "source": [
    "Now, we can plot the Boxcar and Gaussian kernel functions to see what they look like."
   ]
  },
  {
   "cell_type": "code",
   "execution_count": null,
   "metadata": {
    "nbgrader": {
     "grade": false,
     "grade_id": "q3d-plot",
     "locked": true,
     "schema_version": 2,
     "solution": false
    },
    "scrolled": true
   },
   "outputs": [],
   "source": [
    "x = np.linspace(-10,10,1000)\n",
    "def f(alpha):\n",
    "    plt.plot(x, boxcar_kernel(alpha,x,0), label='Boxcar')\n",
    "    plt.plot(x, gaussian_kernel(alpha,x,0), label='Gaussian')\n",
    "    plt.legend(title='Kernel Function')\n",
    "    plt.show()\n",
    "interact(f, alpha=(1,10,0.1));"
   ]
  },
  {
   "cell_type": "markdown",
   "metadata": {
    "nbgrader": {
     "grade": false,
     "grade_id": "q3d-interactive",
     "locked": true,
     "schema_version": 2,
     "solution": false
    }
   },
   "source": [
    "Using the interactive plot below compare the the two kernel techniques:  (Generating the KDE plot is slow, so you may expect some latency after you move the slider)"
   ]
  },
  {
   "cell_type": "code",
   "execution_count": null,
   "metadata": {
    "nbgrader": {
     "grade": false,
     "grade_id": "q3d-interactive_plot",
     "locked": true,
     "schema_version": 2,
     "solution": false
    }
   },
   "outputs": [],
   "source": [
    "xs = np.linspace(df['trans_inc'].min(), df['trans_inc'].max(), 1000)\n",
    "kde = lambda a,b,c,d : np.sum(a(b,c,d))/len(d)\n",
    "def f(alpha_g, alpha_b):\n",
    "    plt.hist(df['trans_inc'], density=True, color='orange')\n",
    "    g_curve = [kde(gaussian_kernel, alpha_g, x, df['trans_inc']) for x in xs]\n",
    "    plt.plot(xs, g_curve, 'k-', label='Gaussian')\n",
    "    b_curve = [kde(boxcar_kernel, alpha_b, x, df['trans_inc']) for x in xs]\n",
    "    plt.plot(xs, b_curve, 'r-', label='Boxcar')\n",
    "    plt.legend(title='Kernel Function')\n",
    "    plt.show()\n",
    "interact(f, alpha_g=(0.01,.5,0.01), alpha_b=(0.01,3,0.1));"
   ]
  },
  {
   "cell_type": "markdown",
   "metadata": {
    "nbgrader": {
     "grade": false,
     "grade_id": "cell-ceb8c82d83beab3f",
     "locked": true,
     "schema_version": 2,
     "solution": false
    }
   },
   "source": [
    "## Question 2b"
   ]
  },
  {
   "cell_type": "markdown",
   "metadata": {
    "nbgrader": {
     "grade": false,
     "grade_id": "cell-9f2cd3a74f8dfc0c",
     "locked": true,
     "schema_version": 2,
     "solution": false
    }
   },
   "source": [
    "Briefly compare and contrast the Gaussian and Boxcar kernels in the cell below. How do the two kernels relate with each other for the same alpha value?"
   ]
  },
  {
   "cell_type": "markdown",
   "metadata": {},
   "source": [
    "_Type your answer here, replacing this text._"
   ]
  },
  {
   "cell_type": "markdown",
   "metadata": {
    "nbgrader": {
     "grade": false,
     "grade_id": "finish",
     "locked": true,
     "schema_version": 2,
     "solution": false
    }
   },
   "source": [
    "**Congrats!** You are finished with this lab."
   ]
  },
  {
   "cell_type": "markdown",
   "metadata": {
    "deletable": false,
    "editable": false
   },
   "source": [
    "---\n",
    "\n",
    "To double-check your work, the cell below will rerun all of the autograder tests."
   ]
  },
  {
   "cell_type": "code",
   "execution_count": null,
   "metadata": {
    "deletable": false,
    "editable": false
   },
   "outputs": [],
   "source": [
    "grader.check_all()"
   ]
  },
  {
   "cell_type": "markdown",
   "metadata": {
    "deletable": false,
    "editable": false
   },
   "source": [
    "## Submission\n",
    "\n",
    "Make sure you have run all cells in your notebook in order before running the cell below, so that all images/graphs appear in the output. The cell below will generate a zip file for you to submit. **Please save before exporting!**\n",
    "\n",
    "After exporting, submit the .zip file in BlackBoard"
   ]
  },
  {
   "cell_type": "code",
   "execution_count": null,
   "metadata": {
    "deletable": false,
    "editable": false
   },
   "outputs": [],
   "source": [
    "# Save your notebook first, then run this cell to export your submission.\n",
    "grader.export(pdf=False)"
   ]
  },
  {
   "cell_type": "markdown",
   "metadata": {},
   "source": [
    " "
   ]
  }
 ],
 "metadata": {
  "_change_revision": 0,
  "_is_fork": false,
  "celltoolbar": "Create Assignment",
  "kernelspec": {
   "display_name": "Python 3 (ipykernel)",
   "language": "python",
   "name": "python3"
  },
  "language_info": {
   "codemirror_mode": {
    "name": "ipython",
    "version": 3
   },
   "file_extension": ".py",
   "mimetype": "text/x-python",
   "name": "python",
   "nbconvert_exporter": "python",
   "pygments_lexer": "ipython3",
   "version": "3.10.4"
  }
 },
 "nbformat": 4,
 "nbformat_minor": 4
}
